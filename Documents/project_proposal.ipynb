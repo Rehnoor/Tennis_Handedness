{
 "cells": [
  {
   "cell_type": "markdown",
   "id": "a83de566-1f8b-4832-bf1e-fcc4d97914ef",
   "metadata": {},
   "source": [
    "# Heart Disease\n",
    "\n",
    "### Introduction\n",
    "\n",
    "hello\n"
   ]
  },
  {
   "cell_type": "markdown",
   "id": "d673b81f-94aa-4437-ac39-bf8e16ef7cb8",
   "metadata": {},
   "source": [
    "\n",
    "### Preliminary exploratory data analysis\n",
    "\n",
    "\n",
    "\n",
    "\n",
    "\n",
    "\n",
    "\n"
   ]
  },
  {
   "cell_type": "markdown",
   "id": "ef2b3402-3c38-4908-b116-c3f65c066399",
   "metadata": {},
   "source": [
    "### Methods\n",
    "\n",
    "\n",
    "\n"
   ]
  },
  {
   "cell_type": "markdown",
   "id": "ff712b1f-5cb1-4d86-ac71-059d5d1b3125",
   "metadata": {},
   "source": [
    "### Expected outcomes and significance\n",
    "\n",
    "\n",
    "\n",
    "\n",
    "\n",
    "\n",
    "\n"
   ]
  },
  {
   "cell_type": "code",
   "execution_count": null,
   "id": "e3dcc61c-9457-463c-b955-700a2bf84511",
   "metadata": {},
   "outputs": [],
   "source": []
  }
 ],
 "metadata": {
  "kernelspec": {
   "display_name": "Python 3 (ipykernel)",
   "language": "python",
   "name": "python3"
  },
  "language_info": {
   "codemirror_mode": {
    "name": "ipython",
    "version": 3
   },
   "file_extension": ".py",
   "mimetype": "text/x-python",
   "name": "python",
   "nbconvert_exporter": "python",
   "pygments_lexer": "ipython3",
   "version": "3.10.8"
  }
 },
 "nbformat": 4,
 "nbformat_minor": 5
}
