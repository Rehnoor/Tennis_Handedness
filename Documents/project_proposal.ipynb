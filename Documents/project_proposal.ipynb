{
 "cells": [
  {
   "cell_type": "code",
   "execution_count": null,
   "id": "a092d6f8-ff55-439a-9c1a-eb5a0409d763",
   "metadata": {
    "tags": []
   },
   "outputs": [],
   "source": [
    "pip install -U altair "
   ]
  },
  {
   "cell_type": "markdown",
   "id": "a83de566-1f8b-4832-bf1e-fcc4d97914ef",
   "metadata": {},
   "source": [
    "# Handedness and Tennis Success \n",
    "\n",
    "## Introduction\n",
    "\n",
    "It was hypothesized that left handed tennis players have better developed tennis skills than those of right handed players (Holtzen, 2000). It is argued that left handed players can serve more strategically to their opponent given the developed spatial, motor and attentional functions (Holtzen, 2000). Given the hypothesis in Holtzen’s study that left handed players are better than right handed players at tennis, we want to examine if there is an association between handedness and tennis success. The data set we will use is Player Stats for Top 500 Players from Ultimate Tennis Statistics (https://www.ultimatetennisstatistics.com). The data set includes the player’s name, age, where they're from, handedness, source of information, current ranking, best ranking, their backhand position, net prize money, height, weight, coach, preferred surface to play on, information on the duration and dates of their career, social media, and personal game stats. Given our question on whether handedness and specifically, left-handedness, has an impact on success in tennis, we will designate handedness as the classifier variable and will designate best rank, prize money, best elo rank, peak elo rating, titles, and GOAT rank as the predictor variables. We chose these predictor variables as they all relate to the success of a tennis player's career. We omitted other variables like the player's personal info (name, age, height, weight, where they're from), social media and information source, coach, nicknames, backhand position, preferred surface to play on, and information on the duration and dates of their career as they were not relevant to the question we are answering in this project. From the remaining variables regarding the player's game stats, we omitted masters, grand slams, Davis cups, team cups, Olympics, weeks at No. 1, and tour finals as there was very limited data for these variables and we felt that including them in our data analysis would require a significant reduction in the sample size of the data set. We also decided to omit current rank, and current elo rating as some of the players may be retired and ranking decreases when a player is not longer playing, therefore misrepresenting the performance of the player when they were active.\n",
    "\n",
    "\n"
   ]
  },
  {
   "cell_type": "markdown",
   "id": "d673b81f-94aa-4437-ac39-bf8e16ef7cb8",
   "metadata": {},
   "source": [
    "\n",
    "## Methods\n",
    "\n",
    "\n",
    "\n",
    "\n",
    "\n",
    "\n",
    "\n"
   ]
  },
  {
   "cell_type": "markdown",
   "id": "b2301520-6644-4283-aa8a-2fba2bc6229a",
   "metadata": {},
   "source": [
    "### Loading and Cleaning  the Data"
   ]
  },
  {
   "cell_type": "markdown",
   "id": "8f0fbce2-d908-4a96-b70d-a376177b19bf",
   "metadata": {},
   "source": [
    "For the data analysis of this project, we require functions from the pandas package and the altair package. We will load both packages below."
   ]
  },
  {
   "cell_type": "code",
   "execution_count": null,
   "id": "38005e2d-150a-46a1-899e-e8371a97c365",
   "metadata": {
    "tags": []
   },
   "outputs": [],
   "source": [
    "import pandas as pd\n",
    "import altair as alt"
   ]
  },
  {
   "cell_type": "markdown",
   "id": "6685800f-7e9e-4d76-9fc9-8f09ee62460c",
   "metadata": {},
   "source": [
    "To read the data into our notebook, we will use the url (https://drive.google.com/uc?export=download&id=1_MECmUXZuuILYeEOfonSGqodW6qVdhsS) and the read_csv function from the pandas package. At this point, we will name the data 'data'."
   ]
  },
  {
   "cell_type": "code",
   "execution_count": null,
   "id": "5c85db20-6ab9-476d-a66d-ec99c8e5d186",
   "metadata": {
    "tags": []
   },
   "outputs": [],
   "source": [
    "data = pd.read_csv(\"https://drive.google.com/uc?export=download&id=1_MECmUXZuuILYeEOfonSGqodW6qVdhsS\")\n",
    "data"
   ]
  },
  {
   "cell_type": "markdown",
   "id": "cecc9fda-f856-44dd-85de-84a319d1a673",
   "metadata": {},
   "source": [
    "To visualize all the columns of the data set, we will use the .columns function."
   ]
  },
  {
   "cell_type": "code",
   "execution_count": null,
   "id": "7d41d7e8-aebb-4638-b2b3-1ed8213913b1",
   "metadata": {
    "tags": []
   },
   "outputs": [],
   "source": [
    "data.columns"
   ]
  },
  {
   "cell_type": "markdown",
   "id": "b63d31b8-64b0-4a17-8a06-38d85a11bce2",
   "metadata": {
    "tags": []
   },
   "source": [
    "Now that we have a list of the columns in this data set, we will filter out the columns we need to answer our project's question. The columns we will include are plays, best rank, prize money, best elo rank, peak elo rating, titles, and GOAT rank. Will name this 'data_filtered'."
   ]
  },
  {
   "cell_type": "code",
   "execution_count": null,
   "id": "f82d2e20-1fdf-4258-8e09-0a41978d98a5",
   "metadata": {
    "tags": []
   },
   "outputs": [],
   "source": [
    "data_filtered = data[['Plays', 'Best Rank', 'Prize Money', 'Best Elo Rank', 'Peak Elo Rating', 'Titles', 'GOAT Rank']]\n",
    "data_filtered"
   ]
  },
  {
   "cell_type": "markdown",
   "id": "44e0680a-0d97-4116-aca2-263aaa5d89b6",
   "metadata": {},
   "source": [
    "Now that we have selected the columns we will be using for analysis, we want to omit the observations that are missing values by using the .dropna() function. This will allow us to perform K-nearest neighbors classification later on. We will name this 'data_no_na'."
   ]
  },
  {
   "cell_type": "code",
   "execution_count": null,
   "id": "0f8e8e69-6b2f-4073-b9ac-83bd5b3387e1",
   "metadata": {
    "tags": []
   },
   "outputs": [],
   "source": [
    "data_no_na = data_filtered.dropna()\n",
    "data_no_na"
   ]
  },
  {
   "cell_type": "markdown",
   "id": "67ce2d3c-7a55-4bcf-af64-b9bb546ffdba",
   "metadata": {},
   "source": [
    "Many of the columns in the data set contain more than one value in a cell. For the best rank, best elo rank, and peak elo rating columns, there is a date included in the cell that tells us when the ranking or rating was obtained. Since we are not concerned with the date of achievements for the tennis players in answering our predictive question, we can omit this data. In the GOAT rank column, there is the ranking of the player and value of the points the player has that determines their ranking in brackets. Since both values go towards GOAT ranking, we will simplify the data by excluding the points of the player in the brackets. In the prize money column, there is additional information in the form of a string. Since the value of the player's prize money will be sufficient in our analysis, we will keep only the prize money value in this column. In the next step of cleaning the data, we will clean the data so each cell only contains one value, filter for only the values we need in our analysis and will convert the columns (besides the handedness column) from object columns to numeric data."
   ]
  },
  {
   "cell_type": "markdown",
   "id": "a66c5567-e577-40cf-9a36-6097be066093",
   "metadata": {},
   "source": [
    "To clean the data so that there is only one value per cell, we will use the str.split function. We will complete this process in multiply steps, starting with the GOAT rank column. We will separate the values of the GOAT rank column by specifying that the split should be made on the space between the values. We will name this 'data_spit_GOAT'. In this step, we will rename the columns so that when we combine all the adjusted columns later, it will be easy to differentiate them and easy to discard the ones we do not need. We will name the column we will be keeping 'GOAT Rank' and the column we will discard 'GOAT Discard'."
   ]
  },
  {
   "cell_type": "code",
   "execution_count": null,
   "id": "75e5eb86-8c60-43a8-a7d2-bda0d68ad58b",
   "metadata": {
    "tags": []
   },
   "outputs": [],
   "source": [
    "data_split_GOAT = data_no_na['GOAT Rank'].str.split(\" \", expand = True)\n",
    "data_split_GOAT = data_split_GOAT.rename(columns={0:\"GOAT Rank\", 1:\"GOAT Discard\"})\n",
    "data_split_GOAT"
   ]
  },
  {
   "cell_type": "markdown",
   "id": "dce3915f-01e8-4cc0-bb1a-6da674683daf",
   "metadata": {},
   "source": [
    "We will now separate the values of the peak elo rating column, naming it 'data_split_Peak_Elo'. Again, we will specify that the space is where the data should be split and rename the columns to 'Peak Elo Rating' and 'Peak Elo Discard'."
   ]
  },
  {
   "cell_type": "code",
   "execution_count": null,
   "id": "b5e82770-cfab-4a33-b566-2a375c1caa6b",
   "metadata": {
    "tags": []
   },
   "outputs": [],
   "source": [
    "data_split_Peak_Elo = data_no_na['Peak Elo Rating'].str.split(\" \", expand = True)\n",
    "data_split_Peak_Elo = data_split_Peak_Elo.rename(columns={0:\"Peak Elo Rating\", 1:\"Peak Elo Discard\"})\n",
    "data_split_Peak_Elo"
   ]
  },
  {
   "cell_type": "markdown",
   "id": "89a80794-7234-49fa-8dd2-cd5bbd24dd14",
   "metadata": {},
   "source": [
    "We will do the same for the best elo rank column, naming it 'data_split_Best_Elo'. We will rename the columns to 'Best Elo Rank' and 'Best Elo Discard'."
   ]
  },
  {
   "cell_type": "code",
   "execution_count": null,
   "id": "4ec626f7-90f5-4be6-9ed0-896a7d11b88e",
   "metadata": {
    "tags": []
   },
   "outputs": [],
   "source": [
    "data_split_Best_Elo = data_no_na['Best Elo Rank'].str.split(\" \", expand = True)\n",
    "data_split_Best_Elo = data_split_Best_Elo.rename(columns={0:\"Best Elo Rank\", 1:\"Best Elo Discard\"})\n",
    "data_split_Best_Elo"
   ]
  },
  {
   "cell_type": "markdown",
   "id": "6c8fa00a-4804-4b9a-a5fa-2c89f67f0f4f",
   "metadata": {},
   "source": [
    "We will do the same for the best rank column, naming it 'data_split_Best_Rank'. We will rename the columns to 'Best Rank' and 'Best Rank Discard'."
   ]
  },
  {
   "cell_type": "code",
   "execution_count": null,
   "id": "0b4e5390-d7de-4404-8f97-dbd591a1f7b0",
   "metadata": {
    "tags": []
   },
   "outputs": [],
   "source": [
    "data_split_Best_Rank = data_no_na['Best Rank'].str.split(\" \", expand = True)\n",
    "data_split_Best_Rank = data_split_Best_Rank.rename(columns={0:\"Best Rank\", 1:\"Best Rank Discard\"})\n",
    "data_split_Best_Rank"
   ]
  },
  {
   "cell_type": "markdown",
   "id": "0f9b5f71-67e1-4ebc-88eb-44d0c6f0aa73",
   "metadata": {},
   "source": [
    "Finally, we will remove the '$', 'US' and all other unnecessary information from the prize money column"
   ]
  },
  {
   "cell_type": "code",
   "execution_count": null,
   "id": "088efa7a-b40e-4c13-9cfd-146732e1d4c3",
   "metadata": {
    "tags": []
   },
   "outputs": [],
   "source": [
    "data_clean_Prize_Money= data_no_na['Prize Money'].str.strip('$US')\n",
    "data_clean_Prize_Money= data_clean_Prize_Money.str.strip('all-time leader in earnings')\n",
    "data_clean_Prize_Money= data_clean_Prize_Money.str.replace(',','')\n",
    "data_clean_Prize_Money= data_clean_Prize_Money.str.extract(r'(\\d+)', expand=False)\n",
    "data_clean_Prize_Money= pd.DataFrame(data_clean_Prize_Money)\n",
    "data_clean_Prize_Money= data_clean_Prize_Money.rename(columns={0:\"Prize Money\"})\n",
    "data_clean_Prize_Money"
   ]
  },
  {
   "cell_type": "markdown",
   "id": "c9cb1c01-48cb-4683-8664-f7a18bb6ff40",
   "metadata": {},
   "source": [
    "Now that all of the columns have been split or cleaned so that each cell does not contain more than one value, we can combine the columns from each individual step so that we have all the data from the data_no_na data frame. Using the concat function from pandas, we will concantenate the plays column from the data_no_na data frame, data_split_GOAT, data_split_Peak_Elo, data_split_Best_Elo, data_split_Best_Rank, and data_clean_Prize_Money. This data frame will be called tennis."
   ]
  },
  {
   "cell_type": "code",
   "execution_count": null,
   "id": "8fab4d5a-761c-4523-b2fd-ab2e8ea943bb",
   "metadata": {
    "tags": []
   },
   "outputs": [],
   "source": [
    "tennis = pd.concat(\n",
    "    [data_no_na['Plays'], data_no_na['Titles'], data_split_GOAT, data_split_Peak_Elo, data_split_Best_Elo, \n",
    "     data_split_Best_Rank, data_clean_Prize_Money],\n",
    "    axis=1,\n",
    ")\n",
    "tennis"
   ]
  },
  {
   "cell_type": "markdown",
   "id": "495414f5-ba77-4ce8-988f-fcfc20bc9a85",
   "metadata": {},
   "source": [
    "Now that all of the data has been combined together, we can drop the columns that aren't needed for our analysis (labeled with 'discard' in their column titles) using the drop function. This data frame will be called tennis_columns"
   ]
  },
  {
   "cell_type": "code",
   "execution_count": null,
   "id": "2e94a831-18e5-4c4e-9eaa-38bc5ded75ad",
   "metadata": {
    "tags": []
   },
   "outputs": [],
   "source": [
    "tennis_clean = tennis.drop(columns=['GOAT Discard', 'Peak Elo Discard', 'Best Elo Discard', 'Best Rank Discard'])\n",
    "tennis_clean"
   ]
  },
  {
   "cell_type": "markdown",
   "id": "f6956328-5ab3-4c81-ad75-ecee986fb1af",
   "metadata": {},
   "source": [
    "The final step of the data cleaning process is to ensure the predictor columns are numeric . Using the function str.split causes the data returned to be in string type. Since we will be wanting to use functions on the predictor columns that will treat them as numbers, we need to change the predictor columns to numeric data types using the pandas.to_numeric function. Included below is a code cell where the info function is applied to the tennis data set, checking to see which columns are object types and therefore strings. We will name the data frame that has it's predictor variables converted to numerical data 'tennis_clean' and this will be the final version of the clean data."
   ]
  },
  {
   "cell_type": "code",
   "execution_count": null,
   "id": "168c8c0b-bc75-4d38-ade4-12230b4f633b",
   "metadata": {
    "tags": []
   },
   "outputs": [],
   "source": [
    "tennis_clean.info()"
   ]
  },
  {
   "cell_type": "code",
   "execution_count": null,
   "id": "cfd4d940-29e8-4cd4-9006-4d8abfc24327",
   "metadata": {
    "tags": []
   },
   "outputs": [],
   "source": [
    "tennis_clean[\"Titles\"] = pd.to_numeric(tennis_clean[\"Titles\"])\n",
    "tennis_clean[\"GOAT Rank\"] = pd.to_numeric(tennis_clean[\"GOAT Rank\"])\n",
    "tennis_clean[\"Peak Elo Rating\"] = pd.to_numeric(tennis_clean[\"Peak Elo Rating\"])\n",
    "tennis_clean[\"Best Elo Rank\"] = pd.to_numeric(tennis_clean[\"Best Elo Rank\"])\n",
    "tennis_clean[\"Best Rank\"] = pd.to_numeric(tennis_clean[\"Best Rank\"])\n",
    "tennis_clean[\"Prize Money\"] = pd.to_numeric(tennis_clean[\"Prize Money\"])\n",
    "tennis_clean"
   ]
  },
  {
   "cell_type": "markdown",
   "id": "3d7bf2f3-c71e-4e14-b112-4df41aca0f0d",
   "metadata": {},
   "source": [
    "To check that the predictor variables are in the form of numerical data, we will use the info function again."
   ]
  },
  {
   "cell_type": "code",
   "execution_count": null,
   "id": "1986a7c8-d831-426b-bab7-a7de77577860",
   "metadata": {
    "tags": []
   },
   "outputs": [],
   "source": [
    "tennis_clean.info()"
   ]
  },
  {
   "cell_type": "markdown",
   "id": "fc73f0e3-94d2-449c-a2f6-0d0d78cc3083",
   "metadata": {},
   "source": [
    "### Spliting the Data into Training Data and Testing Data and Exploring the Training Data"
   ]
  },
  {
   "cell_type": "markdown",
   "id": "d6bfcd91-57ce-49d2-bc74-deb956dd2cf7",
   "metadata": {},
   "source": [
    "To split the data randomly to create the training and testing data, we will need to set the seed using the np.random.seed function from the numpy package. We will also need the sklearn package to split the data into training and testing data. We will import the test_train_split function from the sklearn package and the numpy package below."
   ]
  },
  {
   "cell_type": "code",
   "execution_count": null,
   "id": "2c116d23-8a7f-45be-a6ed-fc80c624b37c",
   "metadata": {
    "tags": []
   },
   "outputs": [],
   "source": [
    "import numpy as np\n",
    "from sklearn.model_selection import train_test_split"
   ]
  },
  {
   "cell_type": "markdown",
   "id": "bba8aa38-dd86-43a8-800e-17dbe8d3b663",
   "metadata": {},
   "source": [
    "Now, we will split the data into the testing and training data. We will set the seed using the np.random.seed function and then use the test_train_split function on the tennis_clean data frame. As we want to balance the size of the training and testing data sets so that we can have train a relatively accurate model and have a good evaluation of the model's performance, we will split the data so that 75% of the data is training data and 25% is testing data. Lastly, we will stratify the data based on the class label (plays) so that roughly the same proportions of each label is divided into the training and testing data. The training data will be called 'tennis_train', and the testing data will be called 'tennis_test'."
   ]
  },
  {
   "cell_type": "code",
   "execution_count": null,
   "id": "b0d03eb8-b065-4b01-9c90-a9b904bc44f5",
   "metadata": {
    "tags": []
   },
   "outputs": [],
   "source": [
    "np.random.seed(1)\n",
    "\n",
    "tennis_train, tennis_test = train_test_split(\n",
    "    tennis_clean, train_size=0.75, stratify=tennis_clean['Plays']\n",
    ")"
   ]
  },
  {
   "cell_type": "markdown",
   "id": "ecab300c-8b93-42a9-b404-d78bdd522e06",
   "metadata": {},
   "source": [
    "We will now use the info function to check that the data has been split correctly."
   ]
  },
  {
   "cell_type": "code",
   "execution_count": null,
   "id": "d7b20ce1-ae3a-4171-80b2-e0f2a048e46b",
   "metadata": {
    "tags": []
   },
   "outputs": [],
   "source": [
    "tennis_train.info()"
   ]
  },
  {
   "cell_type": "code",
   "execution_count": null,
   "id": "9edce7a3-d746-4f89-8e00-01a69325d318",
   "metadata": {
    "tags": []
   },
   "outputs": [],
   "source": [
    "tennis_test.info()"
   ]
  },
  {
   "cell_type": "markdown",
   "id": "e44c3aaa-fe40-4351-8dd0-824c318df8b3",
   "metadata": {},
   "source": [
    "One concerning point in answering our predictive question is that there may be significantly less left-handed classifications in the data set than there are right-handed classifications. This may impact the model's left-handed classification as the K-nearest neighbors algorithm bases classification on the majority classification of nearby points. To check the percentage of each class (right-handed and left-handed) in the data set, we will use the value_counts function with the normalize argument set to true."
   ]
  },
  {
   "cell_type": "code",
   "execution_count": null,
   "id": "fbc237f1-4820-4d77-8e63-41d995b65eb1",
   "metadata": {
    "tags": []
   },
   "outputs": [],
   "source": [
    "tennis_clean['Plays'].value_counts(normalize=True)"
   ]
  },
  {
   "cell_type": "code",
   "execution_count": null,
   "id": "2a098322-dd2d-4383-a3a8-ddb6dcf380fe",
   "metadata": {
    "tags": []
   },
   "outputs": [],
   "source": [
    "tennis_train['Plays'].value_counts(normalize=True)"
   ]
  },
  {
   "cell_type": "code",
   "execution_count": null,
   "id": "f868ae81-b278-4881-a333-2cd23650892c",
   "metadata": {
    "tags": []
   },
   "outputs": [],
   "source": [
    "tennis_test['Plays'].value_counts(normalize=True)"
   ]
  },
  {
   "cell_type": "markdown",
   "id": "c08aed9b-24d5-4e5e-b21e-b326efbca8c4",
   "metadata": {},
   "source": [
    "Visualizing the number of each classification by creating a bar plot also allows us to check if there are significantly less left-handed classification that right-handed classifications. We will use the chart function from the altair package to create the plot and specify that we want a bar plot by using mark_bar. The x-axis will be the different classifications and the y-axis will be the counts for each classification. We will name this plot 'classification_count_plot'."
   ]
  },
  {
   "cell_type": "code",
   "execution_count": null,
   "id": "11b4b9fc-8e70-4465-8474-3a10ae0b4704",
   "metadata": {
    "tags": []
   },
   "outputs": [],
   "source": [
    "classification_count_plot = alt.Chart(tennis_train).mark_bar().encode(\n",
    "    x=alt.X(\"Plays\").title(\"Handedness\"),\n",
    "    y=alt.Y(\"count()\").title(\"Count\")\n",
    ")\n",
    "classification_count_plot"
   ]
  },
  {
   "cell_type": "markdown",
   "id": "d5980842-de93-4dc9-afa8-4a36fc3a7811",
   "metadata": {},
   "source": [
    "As suspected, there is a much greater proportion of right-handed classes than left-handed classes. In an effort to decrease the class imbalance to limit its effect on the training of our model, we will oversample the left-handed class in the training data. We will need to use the resample function from the sklearn package so we will begin by importing that. Then, we will need to split the training data into two different data groups depending on class through filtering. Next, we will use the resample function on the left-handed observations to increase the number of observations to match the right-handed observations by setting the n_samples argument to equal number of right-handed observations. Finally we will use the concat function to concatenate the data back together."
   ]
  },
  {
   "cell_type": "code",
   "execution_count": null,
   "id": "b2252e32-341f-4f45-9a08-840f8d98a324",
   "metadata": {
    "tags": []
   },
   "outputs": [],
   "source": [
    "from sklearn.utils import resample\n",
    "\n",
    "right_tennis = tennis_train[tennis_train['Plays'] == 'Right-handed']\n",
    "left_tennis = tennis_train[tennis_train['Plays'] == 'Left-handed']\n",
    "\n",
    "left_tennis_upsample = resample(\n",
    "    left_tennis, n_samples = right_tennis.shape[0]\n",
    ")\n",
    "    \n",
    "tennis_train = pd.concat((left_tennis_upsample, right_tennis))"
   ]
  },
  {
   "cell_type": "markdown",
   "id": "85c93959-3466-4806-b61b-09b5813c86b4",
   "metadata": {
    "tags": []
   },
   "source": [
    "To check that the number of classes are now the same, we will use the value_counts function."
   ]
  },
  {
   "cell_type": "code",
   "execution_count": null,
   "id": "6d4dc028-3ddc-4004-80a5-fc477d5d3dc1",
   "metadata": {
    "tags": []
   },
   "outputs": [],
   "source": [
    "tennis_train['Plays'].value_counts()"
   ]
  },
  {
   "cell_type": "markdown",
   "id": "5f9287f9-df11-4cf9-8f18-51bee90db6f2",
   "metadata": {},
   "source": [
    "To explore the data further, we will also calculate the means of each predictor variable in our analysis using the mean function and specifying the numeric_only argument as true to exclude the classifier variable."
   ]
  },
  {
   "cell_type": "code",
   "execution_count": null,
   "id": "9e248bb8-b036-4b4a-b234-4fb6ea894bac",
   "metadata": {
    "tags": []
   },
   "outputs": [],
   "source": [
    "tennis_train.mean(numeric_only=True)"
   ]
  },
  {
   "cell_type": "markdown",
   "id": "cb2d032f-d40a-457a-b80b-146a446dc6d2",
   "metadata": {},
   "source": [
    "The last step of our exploratory data analysis is to visualize the training data. To do so, we will create several scatters plot of the training data, coloring the left-handed and right-handed classes differently to visualize their distribution. We will use the chart function from altair and specify that we want a scatter plot by using mark_circle. For this first scatter plot, we will designate the x variable as prize money and the y variable as best rank. We will name this plot br_pm_plot."
   ]
  },
  {
   "cell_type": "code",
   "execution_count": null,
   "id": "a4ebf6ee-7f89-4a5f-9ddd-b12ccaa74d46",
   "metadata": {
    "tags": []
   },
   "outputs": [],
   "source": [
    "br_pm_plot = alt.Chart(tennis_train).mark_circle().encode(\n",
    "    x=alt.X(\"Prize Money\").title(\"Total Prize Money (USD)\"),\n",
    "    y=alt.Y(\"Best Rank\").title(\"Player's Best Rank\"),\n",
    "    color=alt.Color(\"Plays\").title(\"Handedness\")\n",
    ")\n",
    "br_pm_plot"
   ]
  },
  {
   "cell_type": "code",
   "execution_count": null,
   "id": "5d77c43b-198e-4376-bbf5-8624b1bb37a1",
   "metadata": {
    "tags": []
   },
   "outputs": [],
   "source": [
    "per_ber_plot = alt.Chart(tennis_train).mark_circle().encode(\n",
    "    x=alt.X(\"Best Elo Rank\").title(\"Player's Best Elo Rank\"),\n",
    "    y=alt.Y(\"Peak Elo Rating\").title(\"Player's Peak Elo Rating\"),\n",
    "    color=alt.Color(\"Plays\").title(\"Handedness\")\n",
    ")\n",
    "per_ber_plot"
   ]
  },
  {
   "cell_type": "code",
   "execution_count": null,
   "id": "123df39d-8ed9-47cd-aad5-b64e39b49ab0",
   "metadata": {
    "tags": []
   },
   "outputs": [],
   "source": [
    "br_ber_plot = alt.Chart(tennis_train).mark_circle().encode(\n",
    "    x=alt.X(\"GOAT Rank\").title(\"Player's GOAT Elo Rank\"),\n",
    "    y=alt.Y(\"Titles\").title(\"Number of Titles\"),\n",
    "    color=alt.Color(\"Plays\").title(\"Handedness\")\n",
    ")\n",
    "br_ber_plot"
   ]
  },
  {
   "cell_type": "markdown",
   "id": "49b2e15e-01b1-4c96-91be-2c1065289a25",
   "metadata": {},
   "source": [
    "### Data Analysis"
   ]
  },
  {
   "cell_type": "markdown",
   "id": "9f0438b0-64d0-4b79-af99-92413ddd38a6",
   "metadata": {},
   "source": [
    "To begin our KNN classification, we will create our preprocessor. Our preprocesor will utilize the make_column_transformer argument to select the predictor variables to scale. Once selected, our prprocessor will use the argument StandardScaler() to transform the predictor variables so that they have a mean of 0 and a standard deviation of 1. This will remove any outliers that could affect the euclidean distance when apply our K Nearest Neighbor. In doing so, we remove any noise from the data that could obscure our results.  "
   ]
  },
  {
   "cell_type": "code",
   "execution_count": null,
   "id": "57ab12bc-3498-4b9b-ad6c-397301de0a11",
   "metadata": {
    "tags": []
   },
   "outputs": [],
   "source": [
    "from sklearn.preprocessing import StandardScaler\n",
    "from sklearn.compose import make_column_transformer\n",
    "\n",
    "\n",
    "tennis_preprocessor = make_column_transformer(\n",
    "    (StandardScaler(), ['Best Rank', 'Prize Money', 'Best Elo Rank', 'Peak Elo Rating', 'Titles', 'GOAT Rank']),\n",
    ")"
   ]
  },
  {
   "cell_type": "markdown",
   "id": "be38af54-ee7b-4403-8a8e-01fca5bf3ae0",
   "metadata": {},
   "source": [
    "After creating our preprocessor, we will utilize the KNeighborsClassifier() argument to set our K value. We have set our K value to 3 as XXXX. Using the training split of our tennis data, we have assigned our predictor variables to \"X\" and our response variable to \"y\". \n",
    "\n",
    "We created a pipeline using the make_pipeline() argument to execute our preprocessor and classification step on the data that we input into our model. Using the .fit() argument we will fit our training data into our model which will train our model before applying our test data. This is crucial to our classification as it will ensure that we get the most accurate prediction when we run our model on our test split. "
   ]
  },
  {
   "cell_type": "code",
   "execution_count": null,
   "id": "8d1d5f86-c3e7-4aee-af6e-c24b3d447934",
   "metadata": {
    "tags": []
   },
   "outputs": [],
   "source": [
    "from sklearn.neighbors import KNeighborsClassifier\n",
    "from sklearn.pipeline import make_pipeline\n",
    "\n",
    "knn = KNeighborsClassifier(n_neighbors=3)\n",
    "\n",
    "X = tennis_train[['Best Rank', 'Prize Money', 'Best Elo Rank', 'Peak Elo Rating', 'Titles', 'GOAT Rank']]\n",
    "y = tennis_train['Plays']\n",
    "\n",
    "knn_fit = make_pipeline(tennis_preprocessor, knn).fit(X, y)\n",
    "knn_fit"
   ]
  },
  {
   "cell_type": "markdown",
   "id": "8ee18772-4666-4695-87c9-a96fca088cd4",
   "metadata": {
    "tags": []
   },
   "source": [
    "After training our model, we will apply our model onto our test split. This is done with the .predict() argument that will call on the pipeline to make a prediction on unseen data. In our case, the model will decide handedness depending on our predictor variables. Using the .assign() function, our predictions that come from our model will be displayed in an additional column within our test data frame. \n",
    "\n",
    "To determine the accuracy of the model we will run the .score() argument on our predictor and response variable. "
   ]
  },
  {
   "cell_type": "code",
   "execution_count": null,
   "id": "a433114d-d6f6-494f-8fc2-ee8785239177",
   "metadata": {
    "tags": []
   },
   "outputs": [],
   "source": [
    "tennis_test_predictions = tennis_test.assign(\n",
    "    predicted = knn_fit.predict(tennis_test[['Best Rank', 'Prize Money', 'Best Elo Rank', 'Peak Elo Rating', 'Titles', 'GOAT Rank']])\n",
    ")\n",
    "tennis_test_predictions[['Plays', 'predicted']]\n",
    "\n",
    "tennis_acc_1 = knn_fit.score(\n",
    "    tennis_test[['Best Rank', 'Prize Money', 'Best Elo Rank', 'Peak Elo Rating', 'Titles', 'GOAT Rank']],\n",
    "    tennis_test[\"Plays\"]\n",
    ")\n",
    "tennis_acc_1"
   ]
  },
  {
   "cell_type": "markdown",
   "id": "e30674c1-c69f-4383-84b0-5d90e5317c34",
   "metadata": {},
   "source": [
    "Our score of 0.5 means that our model is 50% accurate. "
   ]
  },
  {
   "cell_type": "markdown",
   "id": "ef2b3402-3c38-4908-b116-c3f65c066399",
   "metadata": {},
   "source": [
    "### Methods\n",
    "Using KNN we will use best rank, best elo rank, peak elo rank, number of titles, and GOAT (greatest of all time) as predictors to determine whether a player is left or right handed (Response variable)  We will compare the output of our model and compare whether top ranked players are left or right handed. \n",
    "We chose not to use the rest of the columns as they were not relevant to the players skills or there was not enough observations for other players for the data to be significant. Using a scatter plot we will display the ranking (y-axis) of each player, number of titles (x-axis), and color code handedness. In doing so, we hope to show if there is a correlation between handedness and tennis success.  \n",
    "\n"
   ]
  },
  {
   "cell_type": "markdown",
   "id": "ff712b1f-5cb1-4d86-ac71-059d5d1b3125",
   "metadata": {},
   "source": [
    "### Expected outcomes and significance\n",
    "\n",
    "\n",
    "\n",
    "\n",
    "\n",
    "\n",
    "\n"
   ]
  },
  {
   "cell_type": "markdown",
   "id": "2c9f9167-64cd-4ec4-a7fc-1d8e277f8577",
   "metadata": {},
   "source": [
    "In this project we hope to identify if there is a correlation between handedness and tennis success. From this data we can explore this hypothesis but also use this data to recognize where points are lost to an opponent given their handedness. This could be used to develop/strategze offensive and defensive plays. "
   ]
  },
  {
   "cell_type": "markdown",
   "id": "5a5bd5b0-cdab-4262-8af2-bf1b5479639b",
   "metadata": {
    "tags": []
   },
   "source": [
    "### References"
   ]
  },
  {
   "cell_type": "markdown",
   "id": "cf9bf9fe-a234-4db6-856e-3efbb9ea1f96",
   "metadata": {},
   "source": [
    "Holtzen D. W. (2000). Handedness and professional tennis. The International journal of neuroscience, 105(1-4), 101–119. https://doi.org/10.3109/00207450009003270\n",
    "\n",
    "FlashScore. (2019, December 2). Ultimate Tennis Statistics. https://www.ultimatetennisstatistics.com/"
   ]
  }
 ],
 "metadata": {
  "kernelspec": {
   "display_name": "Python 3 (ipykernel)",
   "language": "python",
   "name": "python3"
  },
  "language_info": {
   "codemirror_mode": {
    "name": "ipython",
    "version": 3
   },
   "file_extension": ".py",
   "mimetype": "text/x-python",
   "name": "python",
   "nbconvert_exporter": "python",
   "pygments_lexer": "ipython3",
   "version": "3.10.8"
  }
 },
 "nbformat": 4,
 "nbformat_minor": 5
}
